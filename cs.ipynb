{
  "nbformat": 4,
  "nbformat_minor": 0,
  "metadata": {
    "colab": {
      "name": "cs.ipynb",
      "provenance": []
    },
    "kernelspec": {
      "name": "python3",
      "display_name": "Python 3"
    },
    "language_info": {
      "name": "python"
    }
  },
  "cells": [
    {
      "cell_type": "code",
      "execution_count": null,
      "metadata": {
        "colab": {
          "base_uri": "https://localhost:8080/"
        },
        "id": "7geBFkWqvr0N",
        "outputId": "e70301f5-ac68-4005-db98-2d01793b582c"
      },
      "outputs": [
        {
          "output_type": "stream",
          "name": "stdout",
          "text": [
            "3.112296239125271\n"
          ]
        }
      ],
      "source": [
        "from typing_extensions import Required\n",
        "import simpy\n",
        "import random\n",
        "import statistics\n",
        "import numpy as np\n",
        "\n",
        "wait_times = []\n",
        "\n",
        "#\n",
        "req_list = [[],[],[],[],[],[],[]]\n",
        "\n",
        "class Resturant(object):\n",
        "    def __init__(self, env, num_resturant_managment, num_customer_managment, num_order_managment ,num_delivery, num_payments ,num_gatway_api, num_gatway_web):\n",
        "        self.env = env\n",
        "        self.resturant_managment = simpy.Resource(env, num_resturant_managment)\n",
        "        self.customer_managment = simpy.Resource(env, num_customer_managment)\n",
        "        self.order_managment = simpy.Resource(env, num_order_managment)\n",
        "        self.delivery = simpy.Resource(env, num_delivery)\n",
        "        self.payment = simpy.Resource(env, num_payments)\n",
        "        self.gatway_api = simpy.Resource(env, num_gatway_api)\n",
        "        self.gatway_web = simpy.Resource(env, num_gatway_web)\n",
        "\n",
        "    def resturant_managment_service(self, req):\n",
        "        yield self.env.timeout(np.random.exponential(8))\n",
        "\n",
        "    def customer_managment_service(self, req):\n",
        "        yield self.env.timeout(np.random.exponential(5))\n",
        "\n",
        "    def order_managment_service(self, req):\n",
        "        yield self.env.timeout(np.random.exponential(6))\n",
        "\n",
        "    def delivery_service(self, req):\n",
        "        yield self.env.timeout(np.random.exponential(9))\n",
        "\n",
        "    def payment_service(self, req):\n",
        "        yield self.env.timeout(np.random.exponential(12))\n",
        "\n",
        "    def gatway_api_service(self, req):\n",
        "        yield self.env.timeout(np.random.exponential(2))\n",
        "\n",
        "    def gatway_web_service(self, req):\n",
        "        yield self.env.timeout(np.random.exponential(2))\n",
        "        \n",
        "\n",
        "\n",
        "def go_to(env, req, resturant, servisec):\n",
        "    \n",
        "    arrival_time = env.now\n",
        "\n",
        "    for s in servisec:\n",
        "      if s == 'resturant_managment':\n",
        "            with resturant.resturant_managment.request() as request:\n",
        "              yield request\n",
        "              yield env.process(resturant.purchase_ticket(req))\n",
        "\n",
        "      elif s == 'customer_managment':\n",
        "            with resturant.customer_managment.request() as request:\n",
        "              yield request\n",
        "              yield env.process(resturant.purchase_ticket(req))\n",
        "\n",
        "      elif s == 'order_managment':\n",
        "            with resturant.order_managment.request() as request:\n",
        "              yield request\n",
        "              yield env.process(resturant.purchase_ticket(req))\n",
        "\n",
        "      elif s == 'delivery':\n",
        "             with resturant.delivery.request() as request:\n",
        "              yield request\n",
        "              yield env.process(resturant.purchase_ticket(req))    \n",
        "\n",
        "      elif s == 'payment':\n",
        "            with resturant.payment.request() as request:\n",
        "              yield request\n",
        "              yield env.process(resturant.purchase_ticket(req))\n",
        "\n",
        "      elif s == 'gatway_api':\n",
        "            with resturant.gatway_api.request() as request:\n",
        "              yield request\n",
        "              yield env.process(resturant.purchase_ticket(req))\n",
        "\n",
        "      elif s == 'gatway_web':\n",
        "            with resturant.gatway_web.request() as request:\n",
        "              yield request\n",
        "              yield env.process(resturant.purchase_ticket(req))\n",
        "\n",
        "    wait_times.append(env.now - arrival_time)\n",
        "\n",
        "\n",
        "\n",
        "def run_resturant(env, num_resturant_managment, num_customer_managment, num_order_managment ,num_delivery, num_payments ,num_gatway_api, num_gatway_web):\n",
        "    resturant = Resturant(env, num_resturant_managment, num_customer_managment, num_order_managment ,num_delivery, num_payments ,num_gatway_api, num_gatway_web)\n",
        "    req = 0\n",
        "    while True:\n",
        "        yield env.timeout(0.20)  \n",
        "        r = random.choices([0, 1, 2, 3, 4, 5, 6], weights=(20, 10, 5, 25, 15, 20, 5), k=1)\n",
        "        env.process(go_to(env, req, resturant, req_list[r]))\n",
        "        req += 1\n",
        "\n",
        "\n"
      ]
    },
    {
      "cell_type": "code",
      "source": [
        "\n",
        "inputs = input().split()\n",
        "for i in range(0, len(inputs)):\n",
        "    inputs[i] = int(inputs[i])\n",
        "num_resturant_managment, num_customer_managment, num_order_managment ,num_delivery, num_payments ,num_gatway_api, num_gatway_web = inputs\n",
        "\n",
        "env = simpy.Environment()\n",
        "env.process(run_resturant(env, num_resturant_managment, num_customer_managment, num_order_managment ,num_delivery, num_payments ,num_gatway_api, num_gatway_web))\n",
        "env.run(until=90)"
      ],
      "metadata": {
        "colab": {
          "base_uri": "https://localhost:8080/"
        },
        "id": "J_X5C7eC1ZtG",
        "outputId": "165c4b55-1a93-45dc-f5d3-89b04be1d53a"
      },
      "execution_count": null,
      "outputs": [
        {
          "output_type": "stream",
          "name": "stdout",
          "text": [
            "Looking in indexes: https://pypi.org/simple, https://us-python.pkg.dev/colab-wheels/public/simple/\n",
            "Collecting simpy\n",
            "  Downloading simpy-4.0.1-py2.py3-none-any.whl (29 kB)\n",
            "Installing collected packages: simpy\n",
            "Successfully installed simpy-4.0.1\n"
          ]
        }
      ]
    }
  ]
}